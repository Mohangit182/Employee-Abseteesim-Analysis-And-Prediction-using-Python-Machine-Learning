{
 "cells": [
  {
   "cell_type": "code",
   "execution_count": 1,
   "id": "e96a2a80-8059-4ef2-81f6-6e8f47ae2648",
   "metadata": {},
   "outputs": [],
   "source": [
    "import pandas as pd\n",
    "import seaborn as sns\n",
    "import numpy as np\n",
    "import matplotlib.pyplot as plt\n",
    "from sklearn.preprocessing import MinMaxScaler\n",
    "from statsmodels.stats.outliers_influence import variance_inflation_factor\n",
    "from sklearn.model_selection import train_test_split\n",
    "from sklearn.linear_model import LinearRegression\n",
    "from sklearn.linear_model import LogisticRegression\n",
    "from sklearn import preprocessing\n",
    "\n",
    "from sklearn.metrics import mean_squared_error  # MSE and RMSE\n",
    "from sklearn.metrics import mean_absolute_error # MAE\n",
    "from sklearn.metrics import r2_score # r-squared\n",
    "\n",
    "from sklearn.metrics import accuracy_score\n",
    "from sklearn.metrics import confusion_matrix\n",
    "from sklearn.metrics import f1_score\n",
    "from sklearn.metrics import roc_auc_score\n",
    "from sklearn.metrics import recall_score\n",
    "from sklearn.metrics import precision_score\n",
    "from sklearn import neighbors\n",
    "\n",
    "from sklearn.metrics import davies_bouldin_score\n",
    "from sklearn.metrics import calinski_harabasz_score\n",
    "\n",
    "import warnings\n",
    "warnings.filterwarnings(\"ignore\")"
   ]
  },
  {
   "cell_type": "markdown",
   "id": "fa651189-d200-4018-944b-5dc36dac6285",
   "metadata": {},
   "source": [
    "# TASK-1"
   ]
  },
  {
   "cell_type": "code",
   "execution_count": 2,
   "id": "8abd0670-a96a-48a8-ac67-8b0debb6e42b",
   "metadata": {},
   "outputs": [],
   "source": [
    "df=pd.read_csv(\"C:\\\\Users\\\\Admin\\\\Downloads\\\\COURSE_9_NIIT\\\\c9_s7_project1\\\\DS1_C9_S7_Project_AbsenteeismAtWork_Data.csv\",sep=\";\")"
   ]
  },
  {
   "cell_type": "code",
   "execution_count": 3,
   "id": "5fe09443-afaf-45cf-824b-86575331f554",
   "metadata": {},
   "outputs": [
    {
     "data": {
      "text/html": [
       "<div>\n",
       "<style scoped>\n",
       "    .dataframe tbody tr th:only-of-type {\n",
       "        vertical-align: middle;\n",
       "    }\n",
       "\n",
       "    .dataframe tbody tr th {\n",
       "        vertical-align: top;\n",
       "    }\n",
       "\n",
       "    .dataframe thead th {\n",
       "        text-align: right;\n",
       "    }\n",
       "</style>\n",
       "<table border=\"1\" class=\"dataframe\">\n",
       "  <thead>\n",
       "    <tr style=\"text-align: right;\">\n",
       "      <th></th>\n",
       "      <th>ID</th>\n",
       "      <th>Reason for absence</th>\n",
       "      <th>Month of absence</th>\n",
       "      <th>Day of the week</th>\n",
       "      <th>Seasons</th>\n",
       "      <th>Transportation expense</th>\n",
       "      <th>Distance from Residence to Work</th>\n",
       "      <th>Service time</th>\n",
       "      <th>Age</th>\n",
       "      <th>Work load Average/day</th>\n",
       "      <th>...</th>\n",
       "      <th>Disciplinary failure</th>\n",
       "      <th>Education</th>\n",
       "      <th>Son</th>\n",
       "      <th>Social drinker</th>\n",
       "      <th>Social smoker</th>\n",
       "      <th>Pet</th>\n",
       "      <th>Weight</th>\n",
       "      <th>Height</th>\n",
       "      <th>Body mass index</th>\n",
       "      <th>Absenteeism time in hours</th>\n",
       "    </tr>\n",
       "  </thead>\n",
       "  <tbody>\n",
       "    <tr>\n",
       "      <th>0</th>\n",
       "      <td>11</td>\n",
       "      <td>26</td>\n",
       "      <td>7</td>\n",
       "      <td>3</td>\n",
       "      <td>1</td>\n",
       "      <td>289</td>\n",
       "      <td>36</td>\n",
       "      <td>13</td>\n",
       "      <td>33</td>\n",
       "      <td>239.554</td>\n",
       "      <td>...</td>\n",
       "      <td>0</td>\n",
       "      <td>1</td>\n",
       "      <td>2</td>\n",
       "      <td>1</td>\n",
       "      <td>0</td>\n",
       "      <td>1</td>\n",
       "      <td>90</td>\n",
       "      <td>172</td>\n",
       "      <td>30</td>\n",
       "      <td>4</td>\n",
       "    </tr>\n",
       "    <tr>\n",
       "      <th>1</th>\n",
       "      <td>36</td>\n",
       "      <td>0</td>\n",
       "      <td>7</td>\n",
       "      <td>3</td>\n",
       "      <td>1</td>\n",
       "      <td>118</td>\n",
       "      <td>13</td>\n",
       "      <td>18</td>\n",
       "      <td>50</td>\n",
       "      <td>239.554</td>\n",
       "      <td>...</td>\n",
       "      <td>1</td>\n",
       "      <td>1</td>\n",
       "      <td>1</td>\n",
       "      <td>1</td>\n",
       "      <td>0</td>\n",
       "      <td>0</td>\n",
       "      <td>98</td>\n",
       "      <td>178</td>\n",
       "      <td>31</td>\n",
       "      <td>0</td>\n",
       "    </tr>\n",
       "    <tr>\n",
       "      <th>2</th>\n",
       "      <td>3</td>\n",
       "      <td>23</td>\n",
       "      <td>7</td>\n",
       "      <td>4</td>\n",
       "      <td>1</td>\n",
       "      <td>179</td>\n",
       "      <td>51</td>\n",
       "      <td>18</td>\n",
       "      <td>38</td>\n",
       "      <td>239.554</td>\n",
       "      <td>...</td>\n",
       "      <td>0</td>\n",
       "      <td>1</td>\n",
       "      <td>0</td>\n",
       "      <td>1</td>\n",
       "      <td>0</td>\n",
       "      <td>0</td>\n",
       "      <td>89</td>\n",
       "      <td>170</td>\n",
       "      <td>31</td>\n",
       "      <td>2</td>\n",
       "    </tr>\n",
       "    <tr>\n",
       "      <th>3</th>\n",
       "      <td>7</td>\n",
       "      <td>7</td>\n",
       "      <td>7</td>\n",
       "      <td>5</td>\n",
       "      <td>1</td>\n",
       "      <td>279</td>\n",
       "      <td>5</td>\n",
       "      <td>14</td>\n",
       "      <td>39</td>\n",
       "      <td>239.554</td>\n",
       "      <td>...</td>\n",
       "      <td>0</td>\n",
       "      <td>1</td>\n",
       "      <td>2</td>\n",
       "      <td>1</td>\n",
       "      <td>1</td>\n",
       "      <td>0</td>\n",
       "      <td>68</td>\n",
       "      <td>168</td>\n",
       "      <td>24</td>\n",
       "      <td>4</td>\n",
       "    </tr>\n",
       "    <tr>\n",
       "      <th>4</th>\n",
       "      <td>11</td>\n",
       "      <td>23</td>\n",
       "      <td>7</td>\n",
       "      <td>5</td>\n",
       "      <td>1</td>\n",
       "      <td>289</td>\n",
       "      <td>36</td>\n",
       "      <td>13</td>\n",
       "      <td>33</td>\n",
       "      <td>239.554</td>\n",
       "      <td>...</td>\n",
       "      <td>0</td>\n",
       "      <td>1</td>\n",
       "      <td>2</td>\n",
       "      <td>1</td>\n",
       "      <td>0</td>\n",
       "      <td>1</td>\n",
       "      <td>90</td>\n",
       "      <td>172</td>\n",
       "      <td>30</td>\n",
       "      <td>2</td>\n",
       "    </tr>\n",
       "    <tr>\n",
       "      <th>...</th>\n",
       "      <td>...</td>\n",
       "      <td>...</td>\n",
       "      <td>...</td>\n",
       "      <td>...</td>\n",
       "      <td>...</td>\n",
       "      <td>...</td>\n",
       "      <td>...</td>\n",
       "      <td>...</td>\n",
       "      <td>...</td>\n",
       "      <td>...</td>\n",
       "      <td>...</td>\n",
       "      <td>...</td>\n",
       "      <td>...</td>\n",
       "      <td>...</td>\n",
       "      <td>...</td>\n",
       "      <td>...</td>\n",
       "      <td>...</td>\n",
       "      <td>...</td>\n",
       "      <td>...</td>\n",
       "      <td>...</td>\n",
       "      <td>...</td>\n",
       "    </tr>\n",
       "    <tr>\n",
       "      <th>735</th>\n",
       "      <td>11</td>\n",
       "      <td>14</td>\n",
       "      <td>7</td>\n",
       "      <td>3</td>\n",
       "      <td>1</td>\n",
       "      <td>289</td>\n",
       "      <td>36</td>\n",
       "      <td>13</td>\n",
       "      <td>33</td>\n",
       "      <td>264.604</td>\n",
       "      <td>...</td>\n",
       "      <td>0</td>\n",
       "      <td>1</td>\n",
       "      <td>2</td>\n",
       "      <td>1</td>\n",
       "      <td>0</td>\n",
       "      <td>1</td>\n",
       "      <td>90</td>\n",
       "      <td>172</td>\n",
       "      <td>30</td>\n",
       "      <td>8</td>\n",
       "    </tr>\n",
       "    <tr>\n",
       "      <th>736</th>\n",
       "      <td>1</td>\n",
       "      <td>11</td>\n",
       "      <td>7</td>\n",
       "      <td>3</td>\n",
       "      <td>1</td>\n",
       "      <td>235</td>\n",
       "      <td>11</td>\n",
       "      <td>14</td>\n",
       "      <td>37</td>\n",
       "      <td>264.604</td>\n",
       "      <td>...</td>\n",
       "      <td>0</td>\n",
       "      <td>3</td>\n",
       "      <td>1</td>\n",
       "      <td>0</td>\n",
       "      <td>0</td>\n",
       "      <td>1</td>\n",
       "      <td>88</td>\n",
       "      <td>172</td>\n",
       "      <td>29</td>\n",
       "      <td>4</td>\n",
       "    </tr>\n",
       "    <tr>\n",
       "      <th>737</th>\n",
       "      <td>4</td>\n",
       "      <td>0</td>\n",
       "      <td>0</td>\n",
       "      <td>3</td>\n",
       "      <td>1</td>\n",
       "      <td>118</td>\n",
       "      <td>14</td>\n",
       "      <td>13</td>\n",
       "      <td>40</td>\n",
       "      <td>271.219</td>\n",
       "      <td>...</td>\n",
       "      <td>0</td>\n",
       "      <td>1</td>\n",
       "      <td>1</td>\n",
       "      <td>1</td>\n",
       "      <td>0</td>\n",
       "      <td>8</td>\n",
       "      <td>98</td>\n",
       "      <td>170</td>\n",
       "      <td>34</td>\n",
       "      <td>0</td>\n",
       "    </tr>\n",
       "    <tr>\n",
       "      <th>738</th>\n",
       "      <td>8</td>\n",
       "      <td>0</td>\n",
       "      <td>0</td>\n",
       "      <td>4</td>\n",
       "      <td>2</td>\n",
       "      <td>231</td>\n",
       "      <td>35</td>\n",
       "      <td>14</td>\n",
       "      <td>39</td>\n",
       "      <td>271.219</td>\n",
       "      <td>...</td>\n",
       "      <td>0</td>\n",
       "      <td>1</td>\n",
       "      <td>2</td>\n",
       "      <td>1</td>\n",
       "      <td>0</td>\n",
       "      <td>2</td>\n",
       "      <td>100</td>\n",
       "      <td>170</td>\n",
       "      <td>35</td>\n",
       "      <td>0</td>\n",
       "    </tr>\n",
       "    <tr>\n",
       "      <th>739</th>\n",
       "      <td>35</td>\n",
       "      <td>0</td>\n",
       "      <td>0</td>\n",
       "      <td>6</td>\n",
       "      <td>3</td>\n",
       "      <td>179</td>\n",
       "      <td>45</td>\n",
       "      <td>14</td>\n",
       "      <td>53</td>\n",
       "      <td>271.219</td>\n",
       "      <td>...</td>\n",
       "      <td>0</td>\n",
       "      <td>1</td>\n",
       "      <td>1</td>\n",
       "      <td>0</td>\n",
       "      <td>0</td>\n",
       "      <td>1</td>\n",
       "      <td>77</td>\n",
       "      <td>175</td>\n",
       "      <td>25</td>\n",
       "      <td>0</td>\n",
       "    </tr>\n",
       "  </tbody>\n",
       "</table>\n",
       "<p>740 rows × 21 columns</p>\n",
       "</div>"
      ],
      "text/plain": [
       "     ID  Reason for absence  Month of absence  Day of the week  Seasons  \\\n",
       "0    11                  26                 7                3        1   \n",
       "1    36                   0                 7                3        1   \n",
       "2     3                  23                 7                4        1   \n",
       "3     7                   7                 7                5        1   \n",
       "4    11                  23                 7                5        1   \n",
       "..   ..                 ...               ...              ...      ...   \n",
       "735  11                  14                 7                3        1   \n",
       "736   1                  11                 7                3        1   \n",
       "737   4                   0                 0                3        1   \n",
       "738   8                   0                 0                4        2   \n",
       "739  35                   0                 0                6        3   \n",
       "\n",
       "     Transportation expense  Distance from Residence to Work  Service time  \\\n",
       "0                       289                               36            13   \n",
       "1                       118                               13            18   \n",
       "2                       179                               51            18   \n",
       "3                       279                                5            14   \n",
       "4                       289                               36            13   \n",
       "..                      ...                              ...           ...   \n",
       "735                     289                               36            13   \n",
       "736                     235                               11            14   \n",
       "737                     118                               14            13   \n",
       "738                     231                               35            14   \n",
       "739                     179                               45            14   \n",
       "\n",
       "     Age  Work load Average/day   ...  Disciplinary failure  Education  Son  \\\n",
       "0     33                 239.554  ...                     0          1    2   \n",
       "1     50                 239.554  ...                     1          1    1   \n",
       "2     38                 239.554  ...                     0          1    0   \n",
       "3     39                 239.554  ...                     0          1    2   \n",
       "4     33                 239.554  ...                     0          1    2   \n",
       "..   ...                     ...  ...                   ...        ...  ...   \n",
       "735   33                 264.604  ...                     0          1    2   \n",
       "736   37                 264.604  ...                     0          3    1   \n",
       "737   40                 271.219  ...                     0          1    1   \n",
       "738   39                 271.219  ...                     0          1    2   \n",
       "739   53                 271.219  ...                     0          1    1   \n",
       "\n",
       "     Social drinker  Social smoker  Pet  Weight  Height  Body mass index  \\\n",
       "0                 1              0    1      90     172               30   \n",
       "1                 1              0    0      98     178               31   \n",
       "2                 1              0    0      89     170               31   \n",
       "3                 1              1    0      68     168               24   \n",
       "4                 1              0    1      90     172               30   \n",
       "..              ...            ...  ...     ...     ...              ...   \n",
       "735               1              0    1      90     172               30   \n",
       "736               0              0    1      88     172               29   \n",
       "737               1              0    8      98     170               34   \n",
       "738               1              0    2     100     170               35   \n",
       "739               0              0    1      77     175               25   \n",
       "\n",
       "     Absenteeism time in hours  \n",
       "0                            4  \n",
       "1                            0  \n",
       "2                            2  \n",
       "3                            4  \n",
       "4                            2  \n",
       "..                         ...  \n",
       "735                          8  \n",
       "736                          4  \n",
       "737                          0  \n",
       "738                          0  \n",
       "739                          0  \n",
       "\n",
       "[740 rows x 21 columns]"
      ]
     },
     "execution_count": 3,
     "metadata": {},
     "output_type": "execute_result"
    }
   ],
   "source": [
    "df"
   ]
  },
  {
   "cell_type": "code",
   "execution_count": 4,
   "id": "87e92143-959f-445e-bd51-a4df2b4bc5d6",
   "metadata": {},
   "outputs": [
    {
     "data": {
      "text/plain": [
       "ID                                 0\n",
       "Reason for absence                 0\n",
       "Month of absence                   0\n",
       "Day of the week                    0\n",
       "Seasons                            0\n",
       "Transportation expense             0\n",
       "Distance from Residence to Work    0\n",
       "Service time                       0\n",
       "Age                                0\n",
       "Work load Average/day              0\n",
       "Hit target                         0\n",
       "Disciplinary failure               0\n",
       "Education                          0\n",
       "Son                                0\n",
       "Social drinker                     0\n",
       "Social smoker                      0\n",
       "Pet                                0\n",
       "Weight                             0\n",
       "Height                             0\n",
       "Body mass index                    0\n",
       "Absenteeism time in hours          0\n",
       "dtype: int64"
      ]
     },
     "execution_count": 4,
     "metadata": {},
     "output_type": "execute_result"
    }
   ],
   "source": [
    "df.isnull().sum()"
   ]
  },
  {
   "cell_type": "code",
   "execution_count": 5,
   "id": "97a2f74f-3ae4-41cb-a536-ddfcab613c79",
   "metadata": {},
   "outputs": [
    {
     "data": {
      "text/plain": [
       "ID                                   int64\n",
       "Reason for absence                   int64\n",
       "Month of absence                     int64\n",
       "Day of the week                      int64\n",
       "Seasons                              int64\n",
       "Transportation expense               int64\n",
       "Distance from Residence to Work      int64\n",
       "Service time                         int64\n",
       "Age                                  int64\n",
       "Work load Average/day              float64\n",
       "Hit target                           int64\n",
       "Disciplinary failure                 int64\n",
       "Education                            int64\n",
       "Son                                  int64\n",
       "Social drinker                       int64\n",
       "Social smoker                        int64\n",
       "Pet                                  int64\n",
       "Weight                               int64\n",
       "Height                               int64\n",
       "Body mass index                      int64\n",
       "Absenteeism time in hours            int64\n",
       "dtype: object"
      ]
     },
     "execution_count": 5,
     "metadata": {},
     "output_type": "execute_result"
    }
   ],
   "source": [
    "df.dtypes"
   ]
  },
  {
   "cell_type": "code",
   "execution_count": 6,
   "id": "39c14a99-14bd-415b-9161-4f76f95bf97e",
   "metadata": {},
   "outputs": [],
   "source": [
    "df.drop_duplicates(inplace=True)"
   ]
  },
  {
   "cell_type": "code",
   "execution_count": 7,
   "id": "df63d728-00ee-4ac8-b9c2-95788cf698a7",
   "metadata": {},
   "outputs": [
    {
     "data": {
      "text/plain": [
       "0"
      ]
     },
     "execution_count": 7,
     "metadata": {},
     "output_type": "execute_result"
    }
   ],
   "source": [
    "df.duplicated().sum()"
   ]
  },
  {
   "cell_type": "code",
   "execution_count": 8,
   "id": "03e71d63-acbc-407b-bc82-c0a08e2f6a6d",
   "metadata": {},
   "outputs": [
    {
     "name": "stdout",
     "output_type": "stream",
     "text": [
      "<class 'pandas.core.frame.DataFrame'>\n",
      "Index: 706 entries, 0 to 739\n",
      "Data columns (total 21 columns):\n",
      " #   Column                           Non-Null Count  Dtype  \n",
      "---  ------                           --------------  -----  \n",
      " 0   ID                               706 non-null    int64  \n",
      " 1   Reason for absence               706 non-null    int64  \n",
      " 2   Month of absence                 706 non-null    int64  \n",
      " 3   Day of the week                  706 non-null    int64  \n",
      " 4   Seasons                          706 non-null    int64  \n",
      " 5   Transportation expense           706 non-null    int64  \n",
      " 6   Distance from Residence to Work  706 non-null    int64  \n",
      " 7   Service time                     706 non-null    int64  \n",
      " 8   Age                              706 non-null    int64  \n",
      " 9   Work load Average/day            706 non-null    float64\n",
      " 10  Hit target                       706 non-null    int64  \n",
      " 11  Disciplinary failure             706 non-null    int64  \n",
      " 12  Education                        706 non-null    int64  \n",
      " 13  Son                              706 non-null    int64  \n",
      " 14  Social drinker                   706 non-null    int64  \n",
      " 15  Social smoker                    706 non-null    int64  \n",
      " 16  Pet                              706 non-null    int64  \n",
      " 17  Weight                           706 non-null    int64  \n",
      " 18  Height                           706 non-null    int64  \n",
      " 19  Body mass index                  706 non-null    int64  \n",
      " 20  Absenteeism time in hours        706 non-null    int64  \n",
      "dtypes: float64(1), int64(20)\n",
      "memory usage: 121.3 KB\n"
     ]
    }
   ],
   "source": [
    "df.info()"
   ]
  },
  {
   "cell_type": "code",
   "execution_count": 9,
   "id": "27f48352-7db4-43ed-aec7-956d62619ef3",
   "metadata": {},
   "outputs": [],
   "source": [
    "df.reset_index(drop=True,inplace=True)"
   ]
  },
  {
   "cell_type": "code",
   "execution_count": 10,
   "id": "95893481-8795-4ec2-af33-c25b823364f4",
   "metadata": {},
   "outputs": [
    {
     "data": {
      "text/plain": [
       "(706, 21)"
      ]
     },
     "execution_count": 10,
     "metadata": {},
     "output_type": "execute_result"
    }
   ],
   "source": [
    "df.shape"
   ]
  },
  {
   "cell_type": "code",
   "execution_count": 11,
   "id": "d7bca1e8-fdd4-4344-b6c7-cf95c23a0470",
   "metadata": {},
   "outputs": [
    {
     "name": "stdout",
     "output_type": "stream",
     "text": [
      "Index(['ID', 'Reason for absence', 'Month of absence', 'Day of the week',\n",
      "       'Seasons', 'Transportation expense', 'Distance from Residence to Work',\n",
      "       'Service time', 'Age', 'Work load Average/day ', 'Hit target',\n",
      "       'Disciplinary failure', 'Education', 'Son', 'Social drinker',\n",
      "       'Social smoker', 'Pet', 'Weight', 'Height', 'Body mass index',\n",
      "       'Absenteeism time in hours'],\n",
      "      dtype='object')\n"
     ]
    }
   ],
   "source": [
    "df_conti=df.select_dtypes(include=\"number\")\n",
    "print(df_conti.columns)"
   ]
  },
  {
   "cell_type": "markdown",
   "id": "77f1ffeb-58fc-4d01-bf68-4e7deff25a1e",
   "metadata": {},
   "source": [
    "# treating outlier"
   ]
  },
  {
   "cell_type": "code",
   "execution_count": 12,
   "id": "c9e6ad76-875b-4eb2-a070-ef2a3e4f915b",
   "metadata": {},
   "outputs": [
    {
     "name": "stdout",
     "output_type": "stream",
     "text": [
      "lower fence: -17.0 in column: ID\n",
      "upper fence: 55.0 in column: ID\n",
      "lower fence: -6.5 in column: Reason for absence\n",
      "upper fence: 45.5 in column: Reason for absence\n",
      "lower fence: -7.125 in column: Month of absence\n",
      "upper fence: 19.875 in column: Month of absence\n",
      "lower fence: 0.0 in column: Day of the week\n",
      "upper fence: 8.0 in column: Day of the week\n",
      "lower fence: -1.0 in column: Seasons\n",
      "upper fence: 7.0 in column: Seasons\n",
      "lower fence: 57.5 in column: Transportation expense\n",
      "upper fence: 381.5 in column: Transportation expense\n",
      "lower fence: -33.5 in column: Distance from Residence to Work\n",
      "upper fence: 98.5 in column: Distance from Residence to Work\n",
      "lower fence: -1.5 in column: Service time\n",
      "upper fence: 26.5 in column: Service time\n",
      "lower fence: 17.5 in column: Age\n",
      "upper fence: 53.5 in column: Age\n",
      "lower fence: 169.64200000000002 in column: Work load Average/day \n",
      "upper fence: 368.962 in column: Work load Average/day \n",
      "lower fence: 85.125 in column: Hit target\n",
      "upper fence: 104.125 in column: Hit target\n",
      "lower fence: 0.0 in column: Disciplinary failure\n",
      "upper fence: 0.0 in column: Disciplinary failure\n",
      "lower fence: 1.0 in column: Education\n",
      "upper fence: 1.0 in column: Education\n",
      "lower fence: -3.0 in column: Son\n",
      "upper fence: 5.0 in column: Son\n",
      "lower fence: -1.5 in column: Social drinker\n",
      "upper fence: 2.5 in column: Social drinker\n",
      "lower fence: 0.0 in column: Social smoker\n",
      "upper fence: 0.0 in column: Social smoker\n",
      "lower fence: -1.5 in column: Pet\n",
      "upper fence: 2.5 in column: Pet\n",
      "lower fence: 39.0 in column: Weight\n",
      "upper fence: 119.0 in column: Weight\n",
      "lower fence: 164.5 in column: Height\n",
      "upper fence: 176.5 in column: Height\n",
      "lower fence: 13.5 in column: Body mass index\n",
      "upper fence: 41.5 in column: Body mass index\n",
      "lower fence: -7.0 in column: Absenteeism time in hours\n",
      "upper fence: 17.0 in column: Absenteeism time in hours\n"
     ]
    }
   ],
   "source": [
    "def outlier_treatment(df_conti):\n",
    "    for col in df_conti:\n",
    "        Q1=df[col].quantile(0.25)\n",
    "        Q3=df[col].quantile(0.75)\n",
    "        IQR=Q3-Q1\n",
    "        lower_fence=(Q1-(1.5*IQR))\n",
    "        upper_fence=(Q3+(1.5*IQR))\n",
    "        print(\"lower fence:\",lower_fence,\"in column:\",col)\n",
    "        print(\"upper fence:\",upper_fence,\"in column:\",col) \n",
    "        df.loc[df[col]<lower_fence,col]=round(lower_fence,0) # replace extreme values with lowest in (Q1-(1.5*IQR))\n",
    "        df.loc[df[col]>upper_fence,col]=round(upper_fence,0) # replace extreme values with higest in (Q3+(1.5*IQR))\n",
    "    return df\n",
    "df=outlier_treatment(df_conti)"
   ]
  },
  {
   "cell_type": "markdown",
   "id": "7b168be0-8c97-49f5-b8e6-64a552a909e1",
   "metadata": {},
   "source": [
    "# replacing extreme values with lowest in (Q1-(1.5*IQR))\n",
    "# replacing extreme values with higest in (Q3+(1.5*IQR))"
   ]
  },
  {
   "cell_type": "markdown",
   "id": "97878afe-8069-4385-be45-aa4f30b40b53",
   "metadata": {},
   "source": [
    "# TASK-2\n",
    "# UNDERSTANDING ABSENTEESIM PATTERNS"
   ]
  },
  {
   "cell_type": "markdown",
   "id": "3a03ec83-96f2-484e-801a-83ebbedbbfa5",
   "metadata": {},
   "source": [
    "# absenteesim by age"
   ]
  },
  {
   "cell_type": "code",
   "execution_count": 13,
   "id": "7036160c-91b6-4978-bbe8-5757ca2d6662",
   "metadata": {},
   "outputs": [
    {
     "data": {
      "text/plain": [
       "Age\n",
       "27    4.166667\n",
       "28    4.508772\n",
       "29    4.428571\n",
       "30    4.585366\n",
       "31    6.681818\n",
       "32    3.692308\n",
       "33    8.137255\n",
       "34    7.827586\n",
       "36    5.680000\n",
       "37    4.835616\n",
       "38    4.206186\n",
       "39    3.750000\n",
       "40    4.736842\n",
       "41    7.375000\n",
       "43    6.000000\n",
       "46    8.000000\n",
       "47    3.041667\n",
       "48    4.166667\n",
       "49    3.200000\n",
       "50    3.972973\n",
       "53    0.000000\n",
       "54    8.000000\n",
       "Name: Absenteeism time in hours, dtype: float64"
      ]
     },
     "execution_count": 13,
     "metadata": {},
     "output_type": "execute_result"
    }
   ],
   "source": [
    "age_absenteesim=df.groupby(\"Age\")[\"Absenteeism time in hours\"].mean()\n",
    "age_absenteesim"
   ]
  },
  {
   "cell_type": "code",
   "execution_count": 14,
   "id": "3d205b90-0abf-4013-bf05-e6140faf6b3d",
   "metadata": {},
   "outputs": [
    {
     "data": {
      "image/png": "[encoded data removed]",
      "text/plain": [
       "<Figure size 640x480 with 1 Axes>"
      ]
     },
     "metadata": {},
     "output_type": "display_data"
    }
   ],
   "source": [
    "sns.barplot(x=\"Age\",y=\"Absenteeism time in hours\",data=df,errorbar = None)\n",
    "plt.title(\"ABSENTEESIM TIME IN HOURS BY AGE\")\n",
    "plt.xlabel(\"Age\")\n",
    "plt.ylabel(\"Absenteeism Time in Hours\")\n",
    "plt.show()"
   ]
  },
  {
   "cell_type": "markdown",
   "id": "1ff03970-ae47-401c-8bb8-91fe53c62753",
   "metadata": {},
   "source": [
    "#plot shows 58 age pepoles are more absence in hours"
   ]
  },
  {
   "cell_type": "markdown",
   "id": "4e26c11c-39df-4571-81fb-7d62bf1c5dd1",
   "metadata": {},
   "source": [
    "# ABSENTEESIM BY EDUCATION LEVEL"
   ]
  },
  {
   "cell_type": "code",
   "execution_count": 15,
   "id": "73eae437-1628-408f-864e-540ea662c967",
   "metadata": {},
   "outputs": [
    {
     "data": {
      "text/plain": [
       "Education\n",
       "1    5.177054\n",
       "Name: Absenteeism time in hours, dtype: float64"
      ]
     },
     "execution_count": 15,
     "metadata": {},
     "output_type": "execute_result"
    }
   ],
   "source": [
    "education_absenteesim=df.groupby(\"Education\")[\"Absenteeism time in hours\"].mean()\n",
    "education_absenteesim"
   ]
  },
  {
   "cell_type": "code",
   "execution_count": 16,
   "id": "af7ff338-85fe-4952-9d65-e675eaab0de9",
   "metadata": {},
   "outputs": [
    {
     "data": {
      "image/png": "[encoded data removed]",
      "text/plain": [
       "<Figure size 640x480 with 1 Axes>"
      ]
     },
     "metadata": {},
     "output_type": "display_data"
    }
   ],
   "source": [
    "sns.barplot(x=\"Education\",y=\"Absenteeism time in hours\",data=df,errorbar = None)\n",
    "plt.title(\"ABSENTEESIM TIME IN HOURS BY EDUCATIONLEVEL\")\n",
    "plt.xlabel(\"Education Level\")\n",
    "plt.ylabel(\"Absenteeism Time in Hours\")\n",
    "plt.show()"
   ]
  },
  {
   "cell_type": "markdown",
   "id": "e7759850-20bd-4013-8f09-a7496bcd83a7",
   "metadata": {},
   "source": [
    "#here we can find out high school employees are more absent in hours by educational level"
   ]
  },
  {
   "cell_type": "markdown",
   "id": "2045659e-0be9-433e-b874-d8c565763465",
   "metadata": {},
   "source": [
    "# Absenteesim By Childrens"
   ]
  },
  {
   "cell_type": "code",
   "execution_count": 17,
   "id": "c1e48594-3c32-4c57-b4ad-66c6213224b7",
   "metadata": {},
   "outputs": [
    {
     "data": {
      "text/plain": [
       "Son\n",
       "0    4.855019\n",
       "1    4.388393\n",
       "2    6.467949\n",
       "3    7.533333\n",
       "4    5.809524\n",
       "Name: Absenteeism time in hours, dtype: float64"
      ]
     },
     "execution_count": 17,
     "metadata": {},
     "output_type": "execute_result"
    }
   ],
   "source": [
    "childrens_absenteesim=df.groupby(\"Son\")[\"Absenteeism time in hours\"].mean()\n",
    "childrens_absenteesim"
   ]
  },
  {
   "cell_type": "code",
   "execution_count": 18,
   "id": "a681b55b-fd01-4d11-b071-d776be4098a1",
   "metadata": {},
   "outputs": [
    {
     "data": {
      "image/png": "[encoded data removed]",
      "text/plain": [
       "<Figure size 640x480 with 1 Axes>"
      ]
     },
     "metadata": {},
     "output_type": "display_data"
    }
   ],
   "source": [
    "sns.barplot(x=\"Son\",y=\"Absenteeism time in hours\",data=df,errorbar = None)\n",
    "plt.title(\"ABSENTEESIM TIME IN HOURS BY NUMBER OF CHILDRENS\")\n",
    "plt.xlabel(\"NUMBER OF CHILDRENS\")\n",
    "plt.ylabel(\"Absenteeism Time in Hours\")\n",
    "plt.show()"
   ]
  },
  {
   "cell_type": "markdown",
   "id": "d23abbfe-3385-4d78-8c82-e1f195f0381b",
   "metadata": {},
   "source": [
    "#employees are having 3 childrens are most absents "
   ]
  },
  {
   "cell_type": "markdown",
   "id": "208122ce-a37b-45ae-be00-80e6b51a1621",
   "metadata": {},
   "source": [
    "# ABSENTEESIM BY REASON FOR ABSENCE"
   ]
  },
  {
   "cell_type": "code",
   "execution_count": 19,
   "id": "725ce342-0cc9-4055-ad9a-1525c1b5e0ca",
   "metadata": {},
   "outputs": [
    {
     "data": {
      "text/plain": [
       "Reason for absence\n",
       "0      0.000000\n",
       "1      8.437500\n",
       "2     17.000000\n",
       "3      8.000000\n",
       "4      4.500000\n",
       "5      6.333333\n",
       "6      8.500000\n",
       "7      7.533333\n",
       "8      5.333333\n",
       "9     14.500000\n",
       "10     8.640000\n",
       "11     6.576923\n",
       "12     9.750000\n",
       "13     8.854545\n",
       "14     6.789474\n",
       "15     8.000000\n",
       "16     2.000000\n",
       "17     8.000000\n",
       "18     7.333333\n",
       "19    10.075000\n",
       "21     5.833333\n",
       "22     7.702703\n",
       "23     2.873239\n",
       "24     8.000000\n",
       "25     3.483871\n",
       "26     7.272727\n",
       "27     2.255319\n",
       "28     2.981481\n",
       "Name: Absenteeism time in hours, dtype: float64"
      ]
     },
     "execution_count": 19,
     "metadata": {},
     "output_type": "execute_result"
    }
   ],
   "source": [
    "reason_absenteesim=df.groupby(\"Reason for absence\")[\"Absenteeism time in hours\"].mean()\n",
    "reason_absenteesim"
   ]
  },
  {
   "cell_type": "code",
   "execution_count": 20,
   "id": "6987d864-1160-49dc-9d71-4b829b0db5d4",
   "metadata": {},
   "outputs": [
    {
     "data": {
      "image/png": "[encoded data removed]",
      "text/plain": [
       "<Figure size 640x480 with 1 Axes>"
      ]
     },
     "metadata": {},
     "output_type": "display_data"
    }
   ],
   "source": [
    "sns.barplot(x=\"Reason for absence\",y=\"Absenteeism time in hours\",data=df,errorbar = None)\n",
    "plt.title(\"ABSENTEESIM TIME IN HOURS BY REASONS\")\n",
    "plt.xlabel(\"Reasons\")\n",
    "plt.ylabel(\"Absenteeism Time in Hours\")\n",
    "plt.show()"
   ]
  },
  {
   "cell_type": "markdown",
   "id": "7f1dc5ea-fd51-409f-96ae-a02a8ae94343",
   "metadata": {},
   "source": [
    "#IX(9) Diseases of the circulatory system this reason was most Absenteeism time"
   ]
  },
  {
   "cell_type": "markdown",
   "id": "f1a52277-c903-429e-af3f-06dec8e300a8",
   "metadata": {},
   "source": [
    "# ANALYAZING WORK CHARACTERSTICS(DISPLINARY FAILURE,HIT TARGET,Work load Average/day)"
   ]
  },
  {
   "cell_type": "code",
   "execution_count": 21,
   "id": "92412b2f-3d72-4fe4-8d5a-990af15e25db",
   "metadata": {},
   "outputs": [
    {
     "data": {
      "image/png": "[encoded data removed]",
      "text/plain": [
       "<Figure size 640x480 with 1 Axes>"
      ]
     },
     "metadata": {},
     "output_type": "display_data"
    }
   ],
   "source": [
    "sns.barplot(x=\"Disciplinary failure\",y=\"Absenteeism time in hours\",data=df,errorbar = None)\n",
    "plt.title(\"Absenteeism Time in Hours by Disciplinary Failure\")\n",
    "plt.xlabel(\"Disciplinary Failure\")\n",
    "plt.ylabel(\"Absenteeism Time in Hours\")\n",
    "plt.show()"
   ]
  },
  {
   "cell_type": "markdown",
   "id": "c1096609-f01f-4da3-9df6-b7bc2a3ff525",
   "metadata": {},
   "source": [
    "#Here we can find 0 disciplanary actions are more absents"
   ]
  },
  {
   "cell_type": "code",
   "execution_count": 22,
   "id": "2cab87d3-6f0e-4b75-a7a1-8c4a8808b9b2",
   "metadata": {},
   "outputs": [
    {
     "data": {
      "image/png": "[encoded data removed]",
      "text/plain": [
       "<Figure size 640x480 with 1 Axes>"
      ]
     },
     "metadata": {},
     "output_type": "display_data"
    }
   ],
   "source": [
    "sns.barplot(x=\"Hit target\",y=\"Absenteeism time in hours\",data=df,errorbar = None)\n",
    "plt.title(\"Absenteeism Time in Hours by Hit Target\")\n",
    "plt.xlabel(\"Hit Target\")\n",
    "plt.ylabel(\"Absenteeism Time in Hours\")\n",
    "plt.show()"
   ]
  },
  {
   "cell_type": "code",
   "execution_count": 23,
   "id": "6dcbb177-2a6d-488a-b994-2668b4a9d933",
   "metadata": {},
   "outputs": [
    {
     "data": {
      "image/png": "[encoded data removed]",
      "text/plain": [
       "<Figure size 640x480 with 1 Axes>"
      ]
     },
     "metadata": {},
     "output_type": "display_data"
    }
   ],
   "source": [
    "sns.barplot(x=\"Service time\",y=\"Absenteeism time in hours\",data=df,errorbar = None)\n",
    "plt.title(\"Absenteeism Time in Hours by Service Time\")\n",
    "plt.xlabel(\"Service Time\")\n",
    "plt.ylabel(\"Absenteeism Time in Hours\")\n",
    "plt.show()"
   ]
  },
  {
   "cell_type": "code",
   "execution_count": 24,
   "id": "416635ca-fb60-41fc-b34d-f1655a30cb08",
   "metadata": {},
   "outputs": [
    {
     "data": {
      "text/html": [
       "<div>\n",
       "<style scoped>\n",
       "    .dataframe tbody tr th:only-of-type {\n",
       "        vertical-align: middle;\n",
       "    }\n",
       "\n",
       "    .dataframe tbody tr th {\n",
       "        vertical-align: top;\n",
       "    }\n",
       "\n",
       "    .dataframe thead th {\n",
       "        text-align: right;\n",
       "    }\n",
       "</style>\n",
       "<table border=\"1\" class=\"dataframe\">\n",
       "  <thead>\n",
       "    <tr style=\"text-align: right;\">\n",
       "      <th></th>\n",
       "      <th>Age</th>\n",
       "      <th>Education</th>\n",
       "      <th>Son</th>\n",
       "      <th>Disciplinary failure</th>\n",
       "      <th>Hit target</th>\n",
       "      <th>Service time</th>\n",
       "      <th>Absenteeism time in hours</th>\n",
       "    </tr>\n",
       "  </thead>\n",
       "  <tbody>\n",
       "    <tr>\n",
       "      <th>Age</th>\n",
       "      <td>1.000000</td>\n",
       "      <td>NaN</td>\n",
       "      <td>0.052616</td>\n",
       "      <td>NaN</td>\n",
       "      <td>-0.030220</td>\n",
       "      <td>0.684176</td>\n",
       "      <td>-0.035170</td>\n",
       "    </tr>\n",
       "    <tr>\n",
       "      <th>Education</th>\n",
       "      <td>NaN</td>\n",
       "      <td>NaN</td>\n",
       "      <td>NaN</td>\n",
       "      <td>NaN</td>\n",
       "      <td>NaN</td>\n",
       "      <td>NaN</td>\n",
       "      <td>NaN</td>\n",
       "    </tr>\n",
       "    <tr>\n",
       "      <th>Son</th>\n",
       "      <td>0.052616</td>\n",
       "      <td>NaN</td>\n",
       "      <td>1.000000</td>\n",
       "      <td>NaN</td>\n",
       "      <td>-0.011951</td>\n",
       "      <td>-0.027316</td>\n",
       "      <td>0.123518</td>\n",
       "    </tr>\n",
       "    <tr>\n",
       "      <th>Disciplinary failure</th>\n",
       "      <td>NaN</td>\n",
       "      <td>NaN</td>\n",
       "      <td>NaN</td>\n",
       "      <td>NaN</td>\n",
       "      <td>NaN</td>\n",
       "      <td>NaN</td>\n",
       "      <td>NaN</td>\n",
       "    </tr>\n",
       "    <tr>\n",
       "      <th>Hit target</th>\n",
       "      <td>-0.030220</td>\n",
       "      <td>NaN</td>\n",
       "      <td>-0.011951</td>\n",
       "      <td>NaN</td>\n",
       "      <td>1.000000</td>\n",
       "      <td>-0.004552</td>\n",
       "      <td>0.021596</td>\n",
       "    </tr>\n",
       "    <tr>\n",
       "      <th>Service time</th>\n",
       "      <td>0.684176</td>\n",
       "      <td>NaN</td>\n",
       "      <td>-0.027316</td>\n",
       "      <td>NaN</td>\n",
       "      <td>-0.004552</td>\n",
       "      <td>1.000000</td>\n",
       "      <td>-0.018496</td>\n",
       "    </tr>\n",
       "    <tr>\n",
       "      <th>Absenteeism time in hours</th>\n",
       "      <td>-0.035170</td>\n",
       "      <td>NaN</td>\n",
       "      <td>0.123518</td>\n",
       "      <td>NaN</td>\n",
       "      <td>0.021596</td>\n",
       "      <td>-0.018496</td>\n",
       "      <td>1.000000</td>\n",
       "    </tr>\n",
       "  </tbody>\n",
       "</table>\n",
       "</div>"
      ],
      "text/plain": [
       "                                Age  Education       Son  \\\n",
       "Age                        1.000000        NaN  0.052616   \n",
       "Education                       NaN        NaN       NaN   \n",
       "Son                        0.052616        NaN  1.000000   \n",
       "Disciplinary failure            NaN        NaN       NaN   \n",
       "Hit target                -0.030220        NaN -0.011951   \n",
       "Service time               0.684176        NaN -0.027316   \n",
       "Absenteeism time in hours -0.035170        NaN  0.123518   \n",
       "\n",
       "                           Disciplinary failure  Hit target  Service time  \\\n",
       "Age                                         NaN   -0.030220      0.684176   \n",
       "Education                                   NaN         NaN           NaN   \n",
       "Son                                         NaN   -0.011951     -0.027316   \n",
       "Disciplinary failure                        NaN         NaN           NaN   \n",
       "Hit target                                  NaN    1.000000     -0.004552   \n",
       "Service time                                NaN   -0.004552      1.000000   \n",
       "Absenteeism time in hours                   NaN    0.021596     -0.018496   \n",
       "\n",
       "                           Absenteeism time in hours  \n",
       "Age                                        -0.035170  \n",
       "Education                                        NaN  \n",
       "Son                                         0.123518  \n",
       "Disciplinary failure                             NaN  \n",
       "Hit target                                  0.021596  \n",
       "Service time                               -0.018496  \n",
       "Absenteeism time in hours                   1.000000  "
      ]
     },
     "execution_count": 24,
     "metadata": {},
     "output_type": "execute_result"
    }
   ],
   "source": [
    "corr_analysis=df[[\"Age\",\"Education\",\"Son\",\"Disciplinary failure\",\"Hit target\",\"Service time\",\"Absenteeism time in hours\"]].corr()\n",
    "corr_analysis"
   ]
  },
  {
   "cell_type": "code",
   "execution_count": 25,
   "id": "f82a9c18-46a7-4b00-9c58-54ce62540146",
   "metadata": {},
   "outputs": [
    {
     "data": {
      "image/png": "[encoded data removed]",
      "text/plain": [
       "<Figure size 640x480 with 2 Axes>"
      ]
     },
     "metadata": {},
     "output_type": "display_data"
    }
   ],
   "source": [
    "sns.heatmap(corr_analysis, annot=True, cmap=\"coolwarm\")\n",
    "plt.title('Correlation Analysis')\n",
    "plt.show()"
   ]
  },
  {
   "cell_type": "markdown",
   "id": "5b864517-04d9-4bca-965d-583263b6ed6e",
   "metadata": {},
   "source": [
    "# TASK-3\n",
    "# ANALYZING REASONS FOR ABSENTEESIM"
   ]
  },
  {
   "cell_type": "code",
   "execution_count": 26,
   "id": "fcda2a47-86ac-4f6c-a488-d50214f5d86e",
   "metadata": {},
   "outputs": [
    {
     "data": {
      "text/plain": [
       "Reason for absence\n",
       "23    142\n",
       "28    108\n",
       "13     55\n",
       "27     47\n",
       "0      43\n",
       "19     40\n",
       "22     37\n",
       "26     33\n",
       "25     31\n",
       "11     26\n",
       "10     25\n",
       "18     21\n",
       "14     19\n",
       "1      16\n",
       "7      15\n",
       "6       8\n",
       "12      8\n",
       "21      6\n",
       "8       6\n",
       "9       4\n",
       "5       3\n",
       "16      3\n",
       "24      3\n",
       "15      2\n",
       "4       2\n",
       "3       1\n",
       "2       1\n",
       "17      1\n",
       "Name: count, dtype: int64"
      ]
     },
     "execution_count": 26,
     "metadata": {},
     "output_type": "execute_result"
    }
   ],
   "source": [
    "reason_frequency=df[\"Reason for absence\"].value_counts().sort_values(ascending=False)\n",
    "reason_frequency"
   ]
  },
  {
   "cell_type": "code",
   "execution_count": 27,
   "id": "5f210a60-7946-4890-92e6-c3899894daef",
   "metadata": {},
   "outputs": [
    {
     "data": {
      "image/png": "[encoded data removed]",
      "text/plain": [
       "<Figure size 640x480 with 1 Axes>"
      ]
     },
     "metadata": {},
     "output_type": "display_data"
    }
   ],
   "source": [
    "sns.histplot(data=df, x=\"Reason for absence\", bins=30, kde=True)\n",
    "plt.title(\"DISTRIBUTION OF REASON FOR ABSENCE\")\n",
    "plt.xlabel(\"REASONS FOR ABSENCE\")\n",
    "plt.ylabel(\"Frequency\")\n",
    "plt.show()"
   ]
  },
  {
   "cell_type": "markdown",
   "id": "48848024-c48c-4dee-8290-82182e1d1dbf",
   "metadata": {},
   "source": [
    "# 23(medical consultation) and 28(dental consultation) reasons are the most frequent reasons foe employee absence"
   ]
  },
  {
   "cell_type": "code",
   "execution_count": 28,
   "id": "14c32c55-26c9-459a-a8e6-eb41a5ae9c65",
   "metadata": {},
   "outputs": [],
   "source": [
    "# ANALYZING SEASONAL PATTERNS BY REASON FOR ABSENCE"
   ]
  },
  {
   "cell_type": "code",
   "execution_count": 29,
   "id": "cc83bd01-ca62-4eb7-b8a9-acacefcfc936",
   "metadata": {},
   "outputs": [
    {
     "data": {
      "image/png": "[encoded data removed]",
      "text/plain": [
       "<Figure size 1000x600 with 1 Axes>"
      ]
     },
     "metadata": {},
     "output_type": "display_data"
    }
   ],
   "source": [
    "plt.figure(figsize=(10,6))\n",
    "sns.barplot(x=\"Reason for absence\",y=\"Seasons\",data=df,errorbar = None)\n",
    "plt.title(\"SEASONAL PATTERNS IN REASON FORABSENCE \")\n",
    "plt.xlabel(\"REASONS FOR ABSENCE\")\n",
    "plt.ylabel(\"SEASONS\")\n",
    "plt.show()"
   ]
  },
  {
   "cell_type": "code",
   "execution_count": 30,
   "id": "3745ee5b-d535-4755-a915-955ed1220dde",
   "metadata": {},
   "outputs": [
    {
     "data": {
      "image/png": "[encoded data removed]",
      "text/plain": [
       "<Figure size 640x480 with 1 Axes>"
      ]
     },
     "metadata": {},
     "output_type": "display_data"
    }
   ],
   "source": [
    "sns.barplot(x=\"Reason for absence\",y=\"Absenteeism time in hours\",data=df,errorbar = None)\n",
    "plt.title(\"ABSENTEESIM TIME IN HOURS BY REASONS\")\n",
    "plt.xlabel(\"Reasons\")\n",
    "plt.ylabel(\"Absenteeism Time in Hours\")\n",
    "plt.show()"
   ]
  },
  {
   "cell_type": "code",
   "execution_count": 31,
   "id": "f0ba3ddb-0068-49c5-8a96-ba501f29d53a",
   "metadata": {},
   "outputs": [],
   "source": [
    "df_conti=df.select_dtypes(include='number')"
   ]
  },
  {
   "cell_type": "code",
   "execution_count": 32,
   "id": "3b0bd11d-407c-4692-95bd-1f1afdd08d58",
   "metadata": {},
   "outputs": [
    {
     "data": {
      "text/plain": [
       "Index(['ID', 'Reason for absence', 'Month of absence', 'Day of the week',\n",
       "       'Seasons', 'Transportation expense', 'Distance from Residence to Work',\n",
       "       'Service time', 'Age', 'Work load Average/day ', 'Hit target',\n",
       "       'Disciplinary failure', 'Education', 'Son', 'Social drinker',\n",
       "       'Social smoker', 'Pet', 'Weight', 'Height', 'Body mass index',\n",
       "       'Absenteeism time in hours'],\n",
       "      dtype='object')"
      ]
     },
     "execution_count": 32,
     "metadata": {},
     "output_type": "execute_result"
    }
   ],
   "source": [
    "df_conti.columns"
   ]
  },
  {
   "cell_type": "code",
   "execution_count": 33,
   "id": "842cbfa0-e5db-4df1-936a-b31650aff823",
   "metadata": {},
   "outputs": [],
   "source": [
    "df_categ=df.select_dtypes(exclude='number')"
   ]
  },
  {
   "cell_type": "code",
   "execution_count": 34,
   "id": "45b7b9de-2eac-4af6-a44b-f4749c9976ed",
   "metadata": {},
   "outputs": [
    {
     "data": {
      "text/plain": [
       "Index([], dtype='object')"
      ]
     },
     "execution_count": 34,
     "metadata": {},
     "output_type": "execute_result"
    }
   ],
   "source": [
    "df_categ.columns"
   ]
  },
  {
   "cell_type": "markdown",
   "id": "bac263b3-8802-4a02-b640-89dcb70a6d6a",
   "metadata": {},
   "source": [
    "# Linear Regression"
   ]
  },
  {
   "cell_type": "code",
   "execution_count": 35,
   "id": "6a038d03-d9c3-4c77-ae50-7c07f9286824",
   "metadata": {},
   "outputs": [],
   "source": [
    "df_li=df[[\"Reason for absence\",\"Absenteeism time in hours\",\"Work load Average/day \",\"Distance from Residence to Work\",\"Age\",\"Service time\",\"Son\"]]"
   ]
  },
  {
   "cell_type": "code",
   "execution_count": 36,
   "id": "ce2d5dfd-4ed1-4d81-a4c2-60e0c62f057a",
   "metadata": {},
   "outputs": [
    {
     "data": {
      "text/plain": [
       "Index(['Reason for absence', 'Absenteeism time in hours',\n",
       "       'Work load Average/day ', 'Distance from Residence to Work', 'Age',\n",
       "       'Service time', 'Son'],\n",
       "      dtype='object')"
      ]
     },
     "execution_count": 36,
     "metadata": {},
     "output_type": "execute_result"
    }
   ],
   "source": [
    "df_li.columns"
   ]
  },
  {
   "cell_type": "code",
   "execution_count": 37,
   "id": "a8bd17d7-ab93-4c13-b61a-3f187d399348",
   "metadata": {},
   "outputs": [
    {
     "data": {
      "text/html": [
       "<div>\n",
       "<style scoped>\n",
       "    .dataframe tbody tr th:only-of-type {\n",
       "        vertical-align: middle;\n",
       "    }\n",
       "\n",
       "    .dataframe tbody tr th {\n",
       "        vertical-align: top;\n",
       "    }\n",
       "\n",
       "    .dataframe thead th {\n",
       "        text-align: right;\n",
       "    }\n",
       "</style>\n",
       "<table border=\"1\" class=\"dataframe\">\n",
       "  <thead>\n",
       "    <tr style=\"text-align: right;\">\n",
       "      <th></th>\n",
       "      <th>Reason for absence</th>\n",
       "      <th>Absenteeism time in hours</th>\n",
       "      <th>Work load Average/day</th>\n",
       "      <th>Distance from Residence to Work</th>\n",
       "      <th>Age</th>\n",
       "      <th>Service time</th>\n",
       "      <th>Son</th>\n",
       "    </tr>\n",
       "  </thead>\n",
       "  <tbody>\n",
       "    <tr>\n",
       "      <th>0</th>\n",
       "      <td>26</td>\n",
       "      <td>4</td>\n",
       "      <td>239.554</td>\n",
       "      <td>36</td>\n",
       "      <td>33</td>\n",
       "      <td>13</td>\n",
       "      <td>2</td>\n",
       "    </tr>\n",
       "    <tr>\n",
       "      <th>1</th>\n",
       "      <td>0</td>\n",
       "      <td>0</td>\n",
       "      <td>239.554</td>\n",
       "      <td>13</td>\n",
       "      <td>50</td>\n",
       "      <td>18</td>\n",
       "      <td>1</td>\n",
       "    </tr>\n",
       "  </tbody>\n",
       "</table>\n",
       "</div>"
      ],
      "text/plain": [
       "   Reason for absence  Absenteeism time in hours  Work load Average/day   \\\n",
       "0                  26                          4                 239.554   \n",
       "1                   0                          0                 239.554   \n",
       "\n",
       "   Distance from Residence to Work  Age  Service time  Son  \n",
       "0                               36   33            13    2  \n",
       "1                               13   50            18    1  "
      ]
     },
     "execution_count": 37,
     "metadata": {},
     "output_type": "execute_result"
    }
   ],
   "source": [
    "df_li.head(2)"
   ]
  },
  {
   "cell_type": "code",
   "execution_count": 38,
   "id": "a5780bff-28f7-4226-9de1-67addf726531",
   "metadata": {},
   "outputs": [],
   "source": [
    "def Outlier_Treatment(col):\n",
    "    Q1=df_li[col].quantile(0.25)\n",
    "    Q3=df_li[col].quantile(0.75)\n",
    "    IQR=Q3 - Q1\n",
    "    LF=Q1 - (1.5 * IQR)\n",
    "    UF=Q3 + (1.5 * IQR)\n",
    "    df_li.loc[df_li[col] < LF, col] = round(LF , 0)\n",
    "    df_li.loc[df_li[col] > UF, col] = round(UF , 0)\n",
    "    return df_li\n",
    "\n",
    "for m in df_li.columns:\n",
    "    Outlier_Treatment(m)"
   ]
  },
  {
   "cell_type": "code",
   "execution_count": 39,
   "id": "383b5939-0d75-476e-970e-177cd6c05335",
   "metadata": {},
   "outputs": [],
   "source": [
    "Scaler = MinMaxScaler()"
   ]
  },
  {
   "cell_type": "code",
   "execution_count": 40,
   "id": "1214a4c0-c8eb-4e8d-ab9c-ce18e2687551",
   "metadata": {},
   "outputs": [],
   "source": [
    "for i in df_li.columns:\n",
    "    df_li[i] = Scaler.fit_transform( df_li[i].to_numpy().reshape(-1,1))"
   ]
  },
  {
   "cell_type": "code",
   "execution_count": 41,
   "id": "afef97dc-7d67-49ab-9a6c-9231af4e0b17",
   "metadata": {},
   "outputs": [],
   "source": [
    "def cal_vif(vif_df):\n",
    "    vif = pd.Series(name = \"VIF\")\n",
    "    for i in range(0, vif_df.shape[1]):\n",
    "        vif[vif_df.columns[i]] = variance_inflation_factor(vif_df.values, i)\n",
    "    return vif\n",
    "\n",
    "vif_values = cal_vif(df_li)"
   ]
  },
  {
   "cell_type": "code",
   "execution_count": 42,
   "id": "daf3692e-b74b-4763-bbd1-7eaa0802a6fc",
   "metadata": {},
   "outputs": [
    {
     "name": "stdout",
     "output_type": "stream",
     "text": [
      "Reason for absence                  4.666484\n",
      "Absenteeism time in hours           2.210308\n",
      "Work load Average/day               3.366404\n",
      "Distance from Residence to Work     3.994279\n",
      "Age                                 6.753684\n",
      "Service time                       15.113711\n",
      "Son                                 1.952491\n",
      "Name: VIF, dtype: float64\n"
     ]
    }
   ],
   "source": [
    "print(vif_values)"
   ]
  },
  {
   "cell_type": "code",
   "execution_count": 43,
   "id": "5a1d5a19-2e38-4678-b819-b176e7b88331",
   "metadata": {},
   "outputs": [],
   "source": [
    "# here i am taking all columns excpet sevice time because it has high vif"
   ]
  },
  {
   "cell_type": "code",
   "execution_count": 44,
   "id": "88ecbbcf-d95d-4a59-8c22-f44def4c20c0",
   "metadata": {},
   "outputs": [],
   "source": [
    "xx=df_li.copy()"
   ]
  },
  {
   "cell_type": "code",
   "execution_count": 45,
   "id": "6462ec7e-aa3b-43d5-80a9-0652d305f598",
   "metadata": {},
   "outputs": [],
   "source": [
    "x=xx.drop([\"Service time\",\"Absenteeism time in hours\"],axis = 1)"
   ]
  },
  {
   "cell_type": "code",
   "execution_count": 46,
   "id": "fa73be4a-0fbf-4ff3-85c1-39680fa63ec7",
   "metadata": {},
   "outputs": [
    {
     "data": {
      "text/plain": [
       "Index(['Reason for absence', 'Work load Average/day ',\n",
       "       'Distance from Residence to Work', 'Age', 'Son'],\n",
       "      dtype='object')"
      ]
     },
     "execution_count": 46,
     "metadata": {},
     "output_type": "execute_result"
    }
   ],
   "source": [
    "x.columns"
   ]
  },
  {
   "cell_type": "code",
   "execution_count": 47,
   "id": "18f8c27b-c528-4648-a4cf-1e04763b662d",
   "metadata": {},
   "outputs": [],
   "source": [
    "y=df_li[[\"Absenteeism time in hours\"]]"
   ]
  },
  {
   "cell_type": "code",
   "execution_count": 48,
   "id": "4ab92691-e788-4b24-b985-c67cf128f756",
   "metadata": {},
   "outputs": [
    {
     "data": {
      "text/html": [
       "<div>\n",
       "<style scoped>\n",
       "    .dataframe tbody tr th:only-of-type {\n",
       "        vertical-align: middle;\n",
       "    }\n",
       "\n",
       "    .dataframe tbody tr th {\n",
       "        vertical-align: top;\n",
       "    }\n",
       "\n",
       "    .dataframe thead th {\n",
       "        text-align: right;\n",
       "    }\n",
       "</style>\n",
       "<table border=\"1\" class=\"dataframe\">\n",
       "  <thead>\n",
       "    <tr style=\"text-align: right;\">\n",
       "      <th></th>\n",
       "      <th>Absenteeism time in hours</th>\n",
       "    </tr>\n",
       "  </thead>\n",
       "  <tbody>\n",
       "    <tr>\n",
       "      <th>0</th>\n",
       "      <td>0.235294</td>\n",
       "    </tr>\n",
       "    <tr>\n",
       "      <th>1</th>\n",
       "      <td>0.000000</td>\n",
       "    </tr>\n",
       "  </tbody>\n",
       "</table>\n",
       "</div>"
      ],
      "text/plain": [
       "   Absenteeism time in hours\n",
       "0                   0.235294\n",
       "1                   0.000000"
      ]
     },
     "execution_count": 48,
     "metadata": {},
     "output_type": "execute_result"
    }
   ],
   "source": [
    "y.head(2)"
   ]
  },
  {
   "cell_type": "code",
   "execution_count": 49,
   "id": "080caa01-63cc-45c5-9999-ac25e42e0d8f",
   "metadata": {},
   "outputs": [],
   "source": [
    "x_train,x_test,y_train,y_test=train_test_split(x,y,train_size = 0.8, random_state = 42)"
   ]
  },
  {
   "cell_type": "code",
   "execution_count": 50,
   "id": "b02dec80-b21f-4638-a0b3-49f91f165ce4",
   "metadata": {},
   "outputs": [
    {
     "name": "stdout",
     "output_type": "stream",
     "text": [
      "(564, 5)\n",
      "(142, 5)\n",
      "(564, 1)\n",
      "(142, 1)\n"
     ]
    }
   ],
   "source": [
    "print(x_train.shape)\n",
    "print(x_test.shape) \n",
    "print(y_train.shape)\n",
    "print(y_test.shape) "
   ]
  },
  {
   "cell_type": "code",
   "execution_count": 51,
   "id": "fa83fc49-d589-4815-a4c1-767f10a8b8b1",
   "metadata": {},
   "outputs": [],
   "source": [
    "lin_reg=LinearRegression()"
   ]
  },
  {
   "cell_type": "code",
   "execution_count": 52,
   "id": "a537e440-34ba-4325-9eb0-33356cf9823b",
   "metadata": {},
   "outputs": [],
   "source": [
    "lin_reg_mod=lin_reg.fit(x_train.values,y_train.values)"
   ]
  },
  {
   "cell_type": "code",
   "execution_count": 53,
   "id": "5461c5f1-073e-462a-aee8-7f82934ec86c",
   "metadata": {},
   "outputs": [
    {
     "name": "stdout",
     "output_type": "stream",
     "text": [
      "0.0536241162914336\n"
     ]
    }
   ],
   "source": [
    "print(lin_reg_mod.score(x_train.values,y_train.values))"
   ]
  },
  {
   "cell_type": "code",
   "execution_count": 54,
   "id": "aa80e954-7307-4f5a-ab32-deb8c4a26dcf",
   "metadata": {},
   "outputs": [],
   "source": [
    "y_pred=lin_reg_mod.predict(x_test.values)"
   ]
  },
  {
   "cell_type": "code",
   "execution_count": 55,
   "id": "5a4fb932-de56-4dfa-8103-829933e3d96d",
   "metadata": {},
   "outputs": [
    {
     "data": {
      "text/plain": [
       "array([0.38113309])"
      ]
     },
     "execution_count": 55,
     "metadata": {},
     "output_type": "execute_result"
    }
   ],
   "source": [
    "lin_reg_mod.intercept_"
   ]
  },
  {
   "cell_type": "code",
   "execution_count": 56,
   "id": "6e902b11-1e1c-4b06-8a4b-b93a124cae80",
   "metadata": {},
   "outputs": [
    {
     "data": {
      "text/plain": [
       "array([[-0.14366334,  0.03543428, -0.01900183, -0.05955166,  0.14830146]])"
      ]
     },
     "execution_count": 56,
     "metadata": {},
     "output_type": "execute_result"
    }
   ],
   "source": [
    "lin_reg_mod.coef_"
   ]
  },
  {
   "cell_type": "code",
   "execution_count": 57,
   "id": "47b5b363-b490-496e-9951-15cf6db860b6",
   "metadata": {},
   "outputs": [
    {
     "name": "stdout",
     "output_type": "stream",
     "text": [
      "MSE1= 0.07179682835315233\n",
      "MSE2= 0.07179682835315233\n"
     ]
    }
   ],
   "source": [
    "mse1=mean_squared_error(y_test,y_pred)\n",
    "print(\"MSE1=\",mse1)\n",
    "mse2=mean_squared_error(y_pred,y_test) # average sum of all squared error\n",
    "print(\"MSE2=\",mse2)"
   ]
  },
  {
   "cell_type": "code",
   "execution_count": 58,
   "id": "9446b40e-c005-4d2e-b9d9-9227fe2e9076",
   "metadata": {},
   "outputs": [
    {
     "name": "stdout",
     "output_type": "stream",
     "text": [
      "MAE= 0.20491767942413924\n"
     ]
    }
   ],
   "source": [
    "mae=mean_absolute_error(y_test,y_pred) # average sum of all absolute error\n",
    "print(\"MAE=\",mae)"
   ]
  },
  {
   "cell_type": "code",
   "execution_count": 59,
   "id": "743c40b2-8068-4b1c-a182-2ce5f15ac005",
   "metadata": {},
   "outputs": [
    {
     "name": "stdout",
     "output_type": "stream",
     "text": [
      "R2= 0.04515867971352505\n"
     ]
    }
   ],
   "source": [
    "r_squared= r2_score(y_test,y_pred)\n",
    "print(\"R2=\",r_squared) # checks relaiabality of the model"
   ]
  },
  {
   "cell_type": "code",
   "execution_count": 60,
   "id": "5d9a71b3-5c3e-4753-96c7-9a2e07a2a470",
   "metadata": {},
   "outputs": [
    {
     "data": {
      "text/html": [
       "<div>\n",
       "<style scoped>\n",
       "    .dataframe tbody tr th:only-of-type {\n",
       "        vertical-align: middle;\n",
       "    }\n",
       "\n",
       "    .dataframe tbody tr th {\n",
       "        vertical-align: top;\n",
       "    }\n",
       "\n",
       "    .dataframe thead th {\n",
       "        text-align: right;\n",
       "    }\n",
       "</style>\n",
       "<table border=\"1\" class=\"dataframe\">\n",
       "  <thead>\n",
       "    <tr style=\"text-align: right;\">\n",
       "      <th></th>\n",
       "    </tr>\n",
       "  </thead>\n",
       "  <tbody>\n",
       "  </tbody>\n",
       "</table>\n",
       "</div>"
      ],
      "text/plain": [
       "Empty DataFrame\n",
       "Columns: []\n",
       "Index: []"
      ]
     },
     "execution_count": 60,
     "metadata": {},
     "output_type": "execute_result"
    }
   ],
   "source": [
    "df_results=pd.DataFrame()\n",
    "df_results"
   ]
  },
  {
   "cell_type": "code",
   "execution_count": 61,
   "id": "d1545499-c375-4e49-a73b-861dc79feada",
   "metadata": {},
   "outputs": [],
   "source": [
    "y_test.reset_index(inplace=True)"
   ]
  },
  {
   "cell_type": "code",
   "execution_count": 62,
   "id": "947e2a28-0eea-4a17-a5d9-49d6ae0a0a28",
   "metadata": {},
   "outputs": [
    {
     "data": {
      "text/html": [
       "<div>\n",
       "<style scoped>\n",
       "    .dataframe tbody tr th:only-of-type {\n",
       "        vertical-align: middle;\n",
       "    }\n",
       "\n",
       "    .dataframe tbody tr th {\n",
       "        vertical-align: top;\n",
       "    }\n",
       "\n",
       "    .dataframe thead th {\n",
       "        text-align: right;\n",
       "    }\n",
       "</style>\n",
       "<table border=\"1\" class=\"dataframe\">\n",
       "  <thead>\n",
       "    <tr style=\"text-align: right;\">\n",
       "      <th></th>\n",
       "      <th>predictions</th>\n",
       "      <th>actuals</th>\n",
       "      <th>residuals</th>\n",
       "    </tr>\n",
       "  </thead>\n",
       "  <tbody>\n",
       "    <tr>\n",
       "      <th>0</th>\n",
       "      <td>0.225525</td>\n",
       "      <td>478</td>\n",
       "      <td>-477.774475</td>\n",
       "    </tr>\n",
       "    <tr>\n",
       "      <th>1</th>\n",
       "      <td>0.333811</td>\n",
       "      <td>81</td>\n",
       "      <td>-80.666189</td>\n",
       "    </tr>\n",
       "    <tr>\n",
       "      <th>2</th>\n",
       "      <td>0.358059</td>\n",
       "      <td>77</td>\n",
       "      <td>-76.641941</td>\n",
       "    </tr>\n",
       "    <tr>\n",
       "      <th>3</th>\n",
       "      <td>0.317269</td>\n",
       "      <td>208</td>\n",
       "      <td>-207.682731</td>\n",
       "    </tr>\n",
       "    <tr>\n",
       "      <th>4</th>\n",
       "      <td>0.211583</td>\n",
       "      <td>319</td>\n",
       "      <td>-318.788417</td>\n",
       "    </tr>\n",
       "    <tr>\n",
       "      <th>...</th>\n",
       "      <td>...</td>\n",
       "      <td>...</td>\n",
       "      <td>...</td>\n",
       "    </tr>\n",
       "    <tr>\n",
       "      <th>137</th>\n",
       "      <td>0.259207</td>\n",
       "      <td>257</td>\n",
       "      <td>-256.740793</td>\n",
       "    </tr>\n",
       "    <tr>\n",
       "      <th>138</th>\n",
       "      <td>0.227991</td>\n",
       "      <td>56</td>\n",
       "      <td>-55.772009</td>\n",
       "    </tr>\n",
       "    <tr>\n",
       "      <th>139</th>\n",
       "      <td>0.243814</td>\n",
       "      <td>686</td>\n",
       "      <td>-685.756186</td>\n",
       "    </tr>\n",
       "    <tr>\n",
       "      <th>140</th>\n",
       "      <td>0.251554</td>\n",
       "      <td>615</td>\n",
       "      <td>-614.748446</td>\n",
       "    </tr>\n",
       "    <tr>\n",
       "      <th>141</th>\n",
       "      <td>0.268730</td>\n",
       "      <td>24</td>\n",
       "      <td>-23.731270</td>\n",
       "    </tr>\n",
       "  </tbody>\n",
       "</table>\n",
       "<p>142 rows × 3 columns</p>\n",
       "</div>"
      ],
      "text/plain": [
       "     predictions  actuals   residuals\n",
       "0       0.225525      478 -477.774475\n",
       "1       0.333811       81  -80.666189\n",
       "2       0.358059       77  -76.641941\n",
       "3       0.317269      208 -207.682731\n",
       "4       0.211583      319 -318.788417\n",
       "..           ...      ...         ...\n",
       "137     0.259207      257 -256.740793\n",
       "138     0.227991       56  -55.772009\n",
       "139     0.243814      686 -685.756186\n",
       "140     0.251554      615 -614.748446\n",
       "141     0.268730       24  -23.731270\n",
       "\n",
       "[142 rows x 3 columns]"
      ]
     },
     "execution_count": 62,
     "metadata": {},
     "output_type": "execute_result"
    }
   ],
   "source": [
    "df_results[\"predictions\"]=pd.DataFrame(y_pred)\n",
    "df_results[\"actuals\"]=y_test.iloc[:,0]\n",
    "df_results[\"residuals\"]=abs(df_results[\"predictions\"])-abs(df_results[\"actuals\"])\n",
    "df_results"
   ]
  },
  {
   "cell_type": "code",
   "execution_count": 63,
   "id": "65904aa7-6e7b-4734-8e91-812c312ee9d8",
   "metadata": {},
   "outputs": [
    {
     "data": {
      "image/png": "[encoded data removed]",
      "text/plain": [
       "<Figure size 640x480 with 1 Axes>"
      ]
     },
     "metadata": {},
     "output_type": "display_data"
    }
   ],
   "source": [
    "plt.hist(df_results[\"residuals\"],edgecolor=\"black\")\n",
    "plt.show()"
   ]
  },
  {
   "cell_type": "code",
   "execution_count": 64,
   "id": "e540ff8a-2d39-48df-a042-c8ff31bf61a4",
   "metadata": {},
   "outputs": [
    {
     "data": {
      "image/png": "[encoded data removed]",
      "text/plain": [
       "<Figure size 640x480 with 1 Axes>"
      ]
     },
     "metadata": {},
     "output_type": "display_data"
    }
   ],
   "source": [
    "sns.histplot(df_results[\"residuals\"],kde=True)\n",
    "plt.show()"
   ]
  },
  {
   "cell_type": "code",
   "execution_count": 65,
   "id": "91db2713-9019-497a-9437-0aa6c0a41187",
   "metadata": {},
   "outputs": [
    {
     "data": {
      "image/png": "[encoded data removed]",
      "text/plain": [
       "<Figure size 640x480 with 1 Axes>"
      ]
     },
     "metadata": {},
     "output_type": "display_data"
    }
   ],
   "source": [
    "sns.residplot(data=df_results,x=df_results[\"predictions\"],y=df_results[\"residuals\"])\n",
    "plt.show()"
   ]
  },
  {
   "cell_type": "code",
   "execution_count": 66,
   "id": "07907990-a512-4105-b51f-18c0bb986112",
   "metadata": {},
   "outputs": [],
   "source": [
    "# conclusion:\n",
    "# model is not reliable\n",
    "#cannot use this model\n",
    "#we need to improve the model"
   ]
  },
  {
   "cell_type": "code",
   "execution_count": null,
   "id": "ec4de726-1e05-48ca-98c9-1b2165745d55",
   "metadata": {},
   "outputs": [],
   "source": []
  }
 ],
 "metadata": {
  "kernelspec": {
   "display_name": "Python 3 (ipykernel)",
   "language": "python",
   "name": "python3"
  },
  "language_info": {
   "codemirror_mode": {
    "name": "ipython",
    "version": 3
   },
   "file_extension": ".py",
   "mimetype": "text/x-python",
   "name": "python",
   "nbconvert_exporter": "python",
   "pygments_lexer": "ipython3",
   "version": "3.11.7"
  }
 },
 "nbformat": 4,
 "nbformat_minor": 5
}
