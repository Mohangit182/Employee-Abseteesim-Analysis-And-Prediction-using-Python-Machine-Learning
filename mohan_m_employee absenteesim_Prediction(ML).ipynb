{
 "cells": [
  {
   "cell_type": "code",
   "execution_count": 1,
   "id": "db0f57a1-0c1d-4054-b50c-e69dbf47abf0",
   "metadata": {},
   "outputs": [],
   "source": [
    "import pandas as pd\n",
    "import seaborn as sns\n",
    "import numpy as np\n",
    "import matplotlib.pyplot as plt\n",
    "from sklearn.preprocessing import MinMaxScaler\n",
    "from statsmodels.stats.outliers_influence import variance_inflation_factor\n",
    "from sklearn.model_selection import train_test_split\n",
    "from sklearn.linear_model import LinearRegression\n",
    "from sklearn.linear_model import LogisticRegression\n",
    "from sklearn import preprocessing\n",
    "\n",
    "from sklearn.metrics import mean_squared_error  # MSE and RMSE\n",
    "from sklearn.metrics import mean_absolute_error # MAE\n",
    "from sklearn.metrics import r2_score # r-squared\n",
    "\n",
    "from sklearn.metrics import accuracy_score\n",
    "from sklearn.metrics import confusion_matrix\n",
    "from sklearn.metrics import f1_score\n",
    "from sklearn.metrics import roc_auc_score\n",
    "from sklearn.metrics import recall_score\n",
    "from sklearn.metrics import precision_score\n",
    "from sklearn import neighbors\n",
    "\n",
    "from sklearn.metrics import davies_bouldin_score\n",
    "from sklearn.metrics import calinski_harabasz_score\n",
    "\n",
    "import warnings\n",
    "warnings.filterwarnings(\"ignore\")"
   ]
  },
  {
   "cell_type": "code",
   "execution_count": 2,
   "id": "08b13c36-bc76-4d33-8727-f29a9d569f8d",
   "metadata": {},
   "outputs": [],
   "source": [
    "df=pd.read_csv(\"C:\\\\Users\\\\Admin\\\\Downloads\\\\COURSE_9_NIIT\\\\c9_s7_project1\\\\DS1_C9_S7_Project_AbsenteeismAtWork_Data.csv\",sep=\";\")"
   ]
  },
  {
   "cell_type": "code",
   "execution_count": 3,
   "id": "bb196802-26b1-4033-9881-e3a6a9769bd4",
   "metadata": {},
   "outputs": [
    {
     "data": {
      "text/html": [
       "<div>\n",
       "<style scoped>\n",
       "    .dataframe tbody tr th:only-of-type {\n",
       "        vertical-align: middle;\n",
       "    }\n",
       "\n",
       "    .dataframe tbody tr th {\n",
       "        vertical-align: top;\n",
       "    }\n",
       "\n",
       "    .dataframe thead th {\n",
       "        text-align: right;\n",
       "    }\n",
       "</style>\n",
       "<table border=\"1\" class=\"dataframe\">\n",
       "  <thead>\n",
       "    <tr style=\"text-align: right;\">\n",
       "      <th></th>\n",
       "      <th>ID</th>\n",
       "      <th>Reason for absence</th>\n",
       "      <th>Month of absence</th>\n",
       "      <th>Day of the week</th>\n",
       "      <th>Seasons</th>\n",
       "      <th>Transportation expense</th>\n",
       "      <th>Distance from Residence to Work</th>\n",
       "      <th>Service time</th>\n",
       "      <th>Age</th>\n",
       "      <th>Work load Average/day</th>\n",
       "      <th>...</th>\n",
       "      <th>Disciplinary failure</th>\n",
       "      <th>Education</th>\n",
       "      <th>Son</th>\n",
       "      <th>Social drinker</th>\n",
       "      <th>Social smoker</th>\n",
       "      <th>Pet</th>\n",
       "      <th>Weight</th>\n",
       "      <th>Height</th>\n",
       "      <th>Body mass index</th>\n",
       "      <th>Absenteeism time in hours</th>\n",
       "    </tr>\n",
       "  </thead>\n",
       "  <tbody>\n",
       "    <tr>\n",
       "      <th>0</th>\n",
       "      <td>11</td>\n",
       "      <td>26</td>\n",
       "      <td>7</td>\n",
       "      <td>3</td>\n",
       "      <td>1</td>\n",
       "      <td>289</td>\n",
       "      <td>36</td>\n",
       "      <td>13</td>\n",
       "      <td>33</td>\n",
       "      <td>239.554</td>\n",
       "      <td>...</td>\n",
       "      <td>0</td>\n",
       "      <td>1</td>\n",
       "      <td>2</td>\n",
       "      <td>1</td>\n",
       "      <td>0</td>\n",
       "      <td>1</td>\n",
       "      <td>90</td>\n",
       "      <td>172</td>\n",
       "      <td>30</td>\n",
       "      <td>4</td>\n",
       "    </tr>\n",
       "    <tr>\n",
       "      <th>1</th>\n",
       "      <td>36</td>\n",
       "      <td>0</td>\n",
       "      <td>7</td>\n",
       "      <td>3</td>\n",
       "      <td>1</td>\n",
       "      <td>118</td>\n",
       "      <td>13</td>\n",
       "      <td>18</td>\n",
       "      <td>50</td>\n",
       "      <td>239.554</td>\n",
       "      <td>...</td>\n",
       "      <td>1</td>\n",
       "      <td>1</td>\n",
       "      <td>1</td>\n",
       "      <td>1</td>\n",
       "      <td>0</td>\n",
       "      <td>0</td>\n",
       "      <td>98</td>\n",
       "      <td>178</td>\n",
       "      <td>31</td>\n",
       "      <td>0</td>\n",
       "    </tr>\n",
       "  </tbody>\n",
       "</table>\n",
       "<p>2 rows × 21 columns</p>\n",
       "</div>"
      ],
      "text/plain": [
       "   ID  Reason for absence  Month of absence  Day of the week  Seasons  \\\n",
       "0  11                  26                 7                3        1   \n",
       "1  36                   0                 7                3        1   \n",
       "\n",
       "   Transportation expense  Distance from Residence to Work  Service time  Age  \\\n",
       "0                     289                               36            13   33   \n",
       "1                     118                               13            18   50   \n",
       "\n",
       "   Work load Average/day   ...  Disciplinary failure  Education  Son  \\\n",
       "0                 239.554  ...                     0          1    2   \n",
       "1                 239.554  ...                     1          1    1   \n",
       "\n",
       "   Social drinker  Social smoker  Pet  Weight  Height  Body mass index  \\\n",
       "0               1              0    1      90     172               30   \n",
       "1               1              0    0      98     178               31   \n",
       "\n",
       "   Absenteeism time in hours  \n",
       "0                          4  \n",
       "1                          0  \n",
       "\n",
       "[2 rows x 21 columns]"
      ]
     },
     "execution_count": 3,
     "metadata": {},
     "output_type": "execute_result"
    }
   ],
   "source": [
    "df.head(2)"
   ]
  },
  {
   "cell_type": "code",
   "execution_count": 4,
   "id": "1d085645-165a-4597-9726-93317287e17d",
   "metadata": {},
   "outputs": [
    {
     "data": {
      "text/plain": [
       "Index(['ID', 'Reason for absence', 'Month of absence', 'Day of the week',\n",
       "       'Seasons', 'Transportation expense', 'Distance from Residence to Work',\n",
       "       'Service time', 'Age', 'Work load Average/day ', 'Hit target',\n",
       "       'Disciplinary failure', 'Education', 'Son', 'Social drinker',\n",
       "       'Social smoker', 'Pet', 'Weight', 'Height', 'Body mass index',\n",
       "       'Absenteeism time in hours'],\n",
       "      dtype='object')"
      ]
     },
     "execution_count": 4,
     "metadata": {},
     "output_type": "execute_result"
    }
   ],
   "source": [
    "df.columns"
   ]
  },
  {
   "cell_type": "markdown",
   "id": "b448d0d2-925b-44a5-a848-4e717bc6598a",
   "metadata": {},
   "source": [
    "# KNN"
   ]
  },
  {
   "cell_type": "code",
   "execution_count": 5,
   "id": "7d698524-b82e-42dc-a63f-4d73c47afc35",
   "metadata": {},
   "outputs": [],
   "source": [
    "df['High Absenteeism'] = (df['Absenteeism time in hours'] > 10).astype(int)"
   ]
  },
  {
   "cell_type": "code",
   "execution_count": 6,
   "id": "61f19f98-0f85-46ee-bd61-842c3f398fc7",
   "metadata": {},
   "outputs": [],
   "source": [
    "x= df.drop(['Absenteeism time in hours', 'High Absenteeism'], axis=1)"
   ]
  },
  {
   "cell_type": "code",
   "execution_count": 7,
   "id": "00b25158-b501-434f-8559-7a073bfd3238",
   "metadata": {},
   "outputs": [],
   "source": [
    "y = df['High Absenteeism']"
   ]
  },
  {
   "cell_type": "code",
   "execution_count": 8,
   "id": "ae07da2d-30aa-4fac-87b5-79daa091a631",
   "metadata": {},
   "outputs": [],
   "source": [
    "x_train, x_test, y_train, y_test = train_test_split(x, y, test_size=0.2, random_state=42)"
   ]
  },
  {
   "cell_type": "code",
   "execution_count": 10,
   "id": "04e3ae1a-4b31-4d1a-ae42-7bc80bc8d7dc",
   "metadata": {},
   "outputs": [],
   "source": [
    "scaler = MinMaxScaler()\n",
    "x_train = scaler.fit_transform(x_train)"
   ]
  },
  {
   "cell_type": "code",
   "execution_count": 11,
   "id": "48d7d4b0-c5f2-43d6-b644-0d96c74d8551",
   "metadata": {},
   "outputs": [],
   "source": [
    "x_test = scaler.transform(x_test)"
   ]
  },
  {
   "cell_type": "code",
   "execution_count": 12,
   "id": "5091af8b-975b-4620-ad59-f6a843a25452",
   "metadata": {},
   "outputs": [
    {
     "name": "stdout",
     "output_type": "stream",
     "text": [
      "if k is 2 then Performance is 91.8918918918919\n",
      "if k is 3 then Performance is 91.21621621621621\n",
      "if k is 4 then Performance is 91.8918918918919\n",
      "if k is 5 then Performance is 91.8918918918919\n",
      "if k is 6 then Performance is 92.56756756756756\n",
      "if k is 7 then Performance is 92.56756756756756\n",
      "if k is 8 then Performance is 92.56756756756756\n",
      "if k is 9 then Performance is 92.56756756756756\n",
      "if k is 10 then Performance is 92.56756756756756\n",
      "if k is 11 then Performance is 92.56756756756756\n",
      "if k is 12 then Performance is 92.56756756756756\n",
      "if k is 13 then Performance is 92.56756756756756\n",
      "if k is 14 then Performance is 92.56756756756756\n",
      "if k is 15 then Performance is 92.56756756756756\n",
      "if k is 16 then Performance is 92.56756756756756\n",
      "if k is 17 then Performance is 92.56756756756756\n",
      "if k is 18 then Performance is 92.56756756756756\n",
      "if k is 19 then Performance is 92.56756756756756\n",
      "if k is 20 then Performance is 92.56756756756756\n",
      "if k is 21 then Performance is 92.56756756756756\n",
      "if k is 22 then Performance is 92.56756756756756\n",
      "if k is 23 then Performance is 92.56756756756756\n",
      "if k is 24 then Performance is 92.56756756756756\n",
      "if k is 25 then Performance is 92.56756756756756\n",
      "if k is 26 then Performance is 92.56756756756756\n",
      "if k is 27 then Performance is 92.56756756756756\n",
      "if k is 28 then Performance is 92.56756756756756\n",
      "if k is 29 then Performance is 92.56756756756756\n",
      "if k is 30 then Performance is 92.56756756756756\n",
      "if k is 31 then Performance is 92.56756756756756\n",
      "if k is 32 then Performance is 92.56756756756756\n",
      "if k is 33 then Performance is 92.56756756756756\n",
      "if k is 34 then Performance is 92.56756756756756\n",
      "if k is 35 then Performance is 92.56756756756756\n",
      "if k is 36 then Performance is 92.56756756756756\n",
      "if k is 37 then Performance is 92.56756756756756\n",
      "if k is 38 then Performance is 92.56756756756756\n",
      "if k is 39 then Performance is 92.56756756756756\n",
      "if k is 40 then Performance is 92.56756756756756\n",
      "if k is 41 then Performance is 92.56756756756756\n",
      "if k is 42 then Performance is 92.56756756756756\n",
      "if k is 43 then Performance is 92.56756756756756\n",
      "if k is 44 then Performance is 92.56756756756756\n",
      "if k is 45 then Performance is 92.56756756756756\n",
      "if k is 46 then Performance is 92.56756756756756\n",
      "if k is 47 then Performance is 92.56756756756756\n",
      "if k is 48 then Performance is 92.56756756756756\n",
      "if k is 49 then Performance is 92.56756756756756\n",
      "if k is 50 then Performance is 92.56756756756756\n",
      "if k is 51 then Performance is 92.56756756756756\n",
      "if k is 52 then Performance is 92.56756756756756\n",
      "if k is 53 then Performance is 92.56756756756756\n",
      "if k is 54 then Performance is 92.56756756756756\n",
      "if k is 55 then Performance is 92.56756756756756\n",
      "if k is 56 then Performance is 92.56756756756756\n",
      "if k is 57 then Performance is 92.56756756756756\n",
      "if k is 58 then Performance is 92.56756756756756\n",
      "if k is 59 then Performance is 92.56756756756756\n",
      "if k is 60 then Performance is 92.56756756756756\n",
      "if k is 61 then Performance is 92.56756756756756\n",
      "if k is 62 then Performance is 92.56756756756756\n",
      "if k is 63 then Performance is 92.56756756756756\n",
      "if k is 64 then Performance is 92.56756756756756\n",
      "if k is 65 then Performance is 92.56756756756756\n",
      "if k is 66 then Performance is 92.56756756756756\n",
      "if k is 67 then Performance is 92.56756756756756\n",
      "if k is 68 then Performance is 92.56756756756756\n",
      "if k is 69 then Performance is 92.56756756756756\n",
      "if k is 70 then Performance is 92.56756756756756\n",
      "if k is 71 then Performance is 92.56756756756756\n",
      "if k is 72 then Performance is 92.56756756756756\n",
      "if k is 73 then Performance is 92.56756756756756\n",
      "if k is 74 then Performance is 92.56756756756756\n",
      "if k is 75 then Performance is 92.56756756756756\n",
      "if k is 76 then Performance is 92.56756756756756\n",
      "if k is 77 then Performance is 92.56756756756756\n",
      "if k is 78 then Performance is 92.56756756756756\n",
      "if k is 79 then Performance is 92.56756756756756\n",
      "if k is 80 then Performance is 92.56756756756756\n",
      "if k is 81 then Performance is 92.56756756756756\n",
      "if k is 82 then Performance is 92.56756756756756\n",
      "if k is 83 then Performance is 92.56756756756756\n",
      "if k is 84 then Performance is 92.56756756756756\n",
      "if k is 85 then Performance is 92.56756756756756\n",
      "if k is 86 then Performance is 92.56756756756756\n",
      "if k is 87 then Performance is 92.56756756756756\n",
      "if k is 88 then Performance is 92.56756756756756\n",
      "if k is 89 then Performance is 92.56756756756756\n",
      "if k is 90 then Performance is 92.56756756756756\n",
      "if k is 91 then Performance is 92.56756756756756\n",
      "if k is 92 then Performance is 92.56756756756756\n",
      "if k is 93 then Performance is 92.56756756756756\n",
      "if k is 94 then Performance is 92.56756756756756\n",
      "if k is 95 then Performance is 92.56756756756756\n",
      "if k is 96 then Performance is 92.56756756756756\n",
      "if k is 97 then Performance is 92.56756756756756\n",
      "if k is 98 then Performance is 92.56756756756756\n",
      "if k is 99 then Performance is 92.56756756756756\n"
     ]
    }
   ],
   "source": [
    "performance = []\n",
    "k_options = np.arange(2,100)\n",
    "\n",
    "for which_k in k_options:\n",
    "    temp_model = neighbors.KNeighborsClassifier(which_k)\n",
    "    temp_model.fit(x_train,y_train)\n",
    "    y_pred = temp_model.predict(x_test)\n",
    "    print(f\"if k is {which_k} then Performance is\",accuracy_score(y_test, y_pred) * 100)\n",
    "    performance.append(accuracy_score(y_test, y_pred)*100)"
   ]
  },
  {
   "cell_type": "code",
   "execution_count": 13,
   "id": "c4990649-fff1-4b8e-9029-009402aabcf0",
   "metadata": {},
   "outputs": [
    {
     "data": {
      "image/png": "[encoded data removed]",
      "text/plain": [
       "<Figure size 640x480 with 1 Axes>"
      ]
     },
     "metadata": {},
     "output_type": "display_data"
    }
   ],
   "source": [
    "import matplotlib.pyplot as plt\n",
    "plt.plot(k_options, performance, marker = \"x\")\n",
    "plt.show()"
   ]
  },
  {
   "cell_type": "code",
   "execution_count": 14,
   "id": "7c63f82a-d1b4-4d5c-9b60-7ff59fbd13b4",
   "metadata": {},
   "outputs": [
    {
     "name": "stdout",
     "output_type": "stream",
     "text": [
      "if k is 26 then Performance is 91.8918918918919\n"
     ]
    }
   ],
   "source": [
    "final_model = neighbors.KNeighborsClassifier(4)\n",
    "final_model.fit(x_train,y_train)\n",
    "#.score\n",
    "y_pred = final_model.predict(x_test)\n",
    "print(f\"if k is 26 then Performance is\",accuracy_score(y_test, y_pred) * 100)"
   ]
  },
  {
   "cell_type": "code",
   "execution_count": 15,
   "id": "0e5cf90b-9f9d-458a-86e4-41f2364d2516",
   "metadata": {},
   "outputs": [
    {
     "data": {
      "text/plain": [
       "array([0, 1])"
      ]
     },
     "execution_count": 15,
     "metadata": {},
     "output_type": "execute_result"
    }
   ],
   "source": [
    "final_model.classes_"
   ]
  },
  {
   "cell_type": "code",
   "execution_count": 16,
   "id": "7b89b3f8-3c20-4cf3-89b3-8caa70f1d379",
   "metadata": {},
   "outputs": [
    {
     "name": "stdout",
     "output_type": "stream",
     "text": [
      "0.8865626189569853\n"
     ]
    }
   ],
   "source": [
    "from sklearn.metrics import f1_score\n",
    "print(f1_score( y_test, y_pred, average = \"weighted\"))"
   ]
  },
  {
   "cell_type": "code",
   "execution_count": 17,
   "id": "e50f2b9e-4b90-4c3a-a57d-a9f9f18d6f62",
   "metadata": {},
   "outputs": [
    {
     "data": {
      "image/png": "[encoded data removed]",
      "text/plain": [
       "<Figure size 640x480 with 1 Axes>"
      ]
     },
     "metadata": {},
     "output_type": "display_data"
    }
   ],
   "source": [
    "from sklearn.metrics import roc_curve, auc\n",
    "from sklearn.metrics import RocCurveDisplay\n",
    "import matplotlib.pyplot as plt\n",
    "\n",
    "y_prob = final_model.predict_proba(x_test)[ : , 1]\n",
    "\n",
    "\n",
    "fpr, tpr, _ = roc_curve(y_test, y_prob)\n",
    "roc_auc = auc(fpr, tpr)\n",
    "\n",
    "#Plot ROC curve\n",
    "roc_display = RocCurveDisplay(fpr = fpr, tpr = tpr, roc_auc = roc_auc)\n",
    "roc_display.plot()\n",
    "plt.xlabel(\"False Positive Rate\")\n",
    "plt.ylabel(\"True Positive Rate\")\n",
    "plt.title(\"Receiver Operating Characteristics (ROC) Curve\")\n",
    "plt.legend(loc = \"lower right\")\n",
    "plt.show()"
   ]
  },
  {
   "cell_type": "markdown",
   "id": "41b46147-ef09-4a53-9aa1-858ef54b8891",
   "metadata": {},
   "source": [
    "# KMeans"
   ]
  },
  {
   "cell_type": "code",
   "execution_count": 19,
   "id": "b4603dbf-3136-4677-ba87-975214906126",
   "metadata": {},
   "outputs": [],
   "source": [
    "features = ['Reason for absence', 'Age', 'Distance from Residence to Work', 'Service time', 'Body mass index']"
   ]
  },
  {
   "cell_type": "code",
   "execution_count": 20,
   "id": "97d600ff-cbd0-442c-ab42-1de584ca5fcc",
   "metadata": {},
   "outputs": [],
   "source": [
    "x=df[features]"
   ]
  },
  {
   "cell_type": "code",
   "execution_count": 21,
   "id": "c04f30a4-c177-48bb-9e4c-807c3b4f2c11",
   "metadata": {},
   "outputs": [],
   "source": [
    "x_scaled = scaler.fit_transform(x)"
   ]
  },
  {
   "cell_type": "code",
   "execution_count": 23,
   "id": "e2026475-a881-4e93-aadb-94a55deb0d7f",
   "metadata": {},
   "outputs": [],
   "source": [
    "from sklearn.cluster import KMeans"
   ]
  },
  {
   "cell_type": "code",
   "execution_count": 25,
   "id": "b68d566c-0c01-4ef4-a972-037472fe72fc",
   "metadata": {},
   "outputs": [],
   "source": [
    "err = []\n",
    "mycluster = np.arange(2,11)\n",
    "for i in mycluster:\n",
    "  model = KMeans(n_clusters = i)\n",
    "  model.fit(x)\n",
    "  err.append(model.inertia_)"
   ]
  },
  {
   "cell_type": "code",
   "execution_count": 26,
   "id": "4f31f267-aa5f-4a27-a9a3-1144ed7271d6",
   "metadata": {},
   "outputs": [
    {
     "data": {
      "image/png": "[encoded data removed]",
      "text/plain": [
       "<Figure size 640x480 with 1 Axes>"
      ]
     },
     "metadata": {},
     "output_type": "display_data"
    }
   ],
   "source": [
    "plt.plot(mycluster, err, marker = \"x\")\n",
    "plt.xlabel(\"Cluster Size\")\n",
    "plt.ylabel(\"Error\")\n",
    "plt.show()"
   ]
  },
  {
   "cell_type": "code",
   "execution_count": 27,
   "id": "5e22ae67-0e8b-4920-beed-2d6491a50eda",
   "metadata": {},
   "outputs": [],
   "source": [
    "km_x=x.iloc[:,:].values\n",
    "model_1=KMeans(n_clusters=4)\n",
    "y_m=model_1.fit_predict(km_x)"
   ]
  },
  {
   "cell_type": "code",
   "execution_count": 28,
   "id": "d4ff2570-2e8c-4b6a-8b2e-29da90ace7db",
   "metadata": {},
   "outputs": [
    {
     "data": {
      "text/plain": [
       "array([[26, 33, 36, 13, 30],\n",
       "       [ 0, 50, 13, 18, 31],\n",
       "       [23, 38, 51, 18, 31],\n",
       "       ...,\n",
       "       [ 0, 40, 14, 13, 34],\n",
       "       [ 0, 39, 35, 14, 35],\n",
       "       [ 0, 53, 45, 14, 25]], dtype=int64)"
      ]
     },
     "execution_count": 28,
     "metadata": {},
     "output_type": "execute_result"
    }
   ],
   "source": [
    "km_x"
   ]
  },
  {
   "cell_type": "code",
   "execution_count": 29,
   "id": "c084adec-6c2f-4031-81c7-64b933507895",
   "metadata": {},
   "outputs": [],
   "source": [
    "my_color=[\"pink\",\"green\",\"red\",\"yellow\"]"
   ]
  },
  {
   "cell_type": "code",
   "execution_count": 30,
   "id": "acf798f4-b160-4c0e-b9f9-27bb29896a43",
   "metadata": {},
   "outputs": [
    {
     "data": {
      "text/plain": [
       "array([[23.92307692, 40.48901099, 16.1043956 , 13.67032967, 27.93956044],\n",
       "       [21.1182266 , 36.33990148, 50.71428571, 14.07881773, 28.10837438],\n",
       "       [21.58767773, 31.36018957, 28.92417062, 10.02369668, 24.1563981 ],\n",
       "       [ 7.11111111, 38.95833333, 18.04166667, 12.70138889, 26.75694444]])"
      ]
     },
     "execution_count": 30,
     "metadata": {},
     "output_type": "execute_result"
    }
   ],
   "source": [
    "model_1.cluster_centers_"
   ]
  },
  {
   "cell_type": "code",
   "execution_count": 32,
   "id": "8e7f0e55-541f-441f-89c0-35d5eb411828",
   "metadata": {},
   "outputs": [
    {
     "data": {
      "image/png": "[encoded data removed]",
      "text/plain": [
       "<Figure size 640x480 with 1 Axes>"
      ]
     },
     "metadata": {},
     "output_type": "display_data"
    }
   ],
   "source": [
    "for i in range(4):\n",
    "  plt.scatter(km_x[y_m==i,0],km_x[y_m==i,1],color=my_color[i])\n",
    "  plt.scatter( model_1.cluster_centers_[i,0], model_1.cluster_centers_[i,1], c=\"black\",marker = 'x')\n",
    "plt.show()"
   ]
  },
  {
   "cell_type": "code",
   "execution_count": null,
   "id": "ed262ed4-2653-42bb-a348-d2a9436291ad",
   "metadata": {},
   "outputs": [],
   "source": []
  }
 ],
 "metadata": {
  "kernelspec": {
   "display_name": "Python 3 (ipykernel)",
   "language": "python",
   "name": "python3"
  },
  "language_info": {
   "codemirror_mode": {
    "name": "ipython",
    "version": 3
   },
   "file_extension": ".py",
   "mimetype": "text/x-python",
   "name": "python",
   "nbconvert_exporter": "python",
   "pygments_lexer": "ipython3",
   "version": "3.11.7"
  }
 },
 "nbformat": 4,
 "nbformat_minor": 5
}
